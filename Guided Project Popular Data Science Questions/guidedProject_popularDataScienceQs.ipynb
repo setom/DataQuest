{
 "cells": [
  {
   "cell_type": "markdown",
   "metadata": {},
   "source": [
    "# Popular Data Science Questions\n",
    "### A guided project from Dataquest.io\n",
    "\n",
    "In this guided project I am acting as an analyst working for a company that creates content regarding data science. Books, articles, videos or interactive text platforms. I am tasked to figure out the best content to write about. \n",
    "\n",
    "Since Stack Overflow is a core for developmnent questions, I begin my search there, noticing that there is a stack exchange site for data science! I will use this platform to leverage ideas for content for my company to write about. \n",
    "\n",
    "### Initial Impressions:\n",
    "I could web-scrape the site to get the content and data that I need, but that process is arduous. I note that tehre is a link to query the stack-exchange sites entirely (https://data.stackexchange.com/datascience/query/new). Since SO uses tags, I decide that pulling data regarding tags of questions is a good place to start. Using the query tool I can see that the \"posts\" table has most of the data that I might want. \n",
    "\n",
    "I use the following query to get the data from the SO query tool. \n",
    "\n",
    "```SELECT Id, PostTypeId, CreationDate, Score, ViewCount, Tags, AnswerCount, FavoriteCount FROM Posts;```\n",
    "\n",
    "I take that data and import it into Pandas below. \n",
    "\n",
    "\n"
   ]
  },
  {
   "cell_type": "code",
   "execution_count": 18,
   "metadata": {},
   "outputs": [
    {
     "data": {
      "text/plain": [
       "(50000, 8)"
      ]
     },
     "execution_count": 18,
     "metadata": {},
     "output_type": "execute_result"
    }
   ],
   "source": [
    "import pandas as pd\n",
    "import matplotlib.pyplot as plt\n",
    "\n",
    "data = pd.read_csv('QueryResults.csv')\n",
    "data.shape"
   ]
  },
  {
   "cell_type": "code",
   "execution_count": 19,
   "metadata": {},
   "outputs": [
    {
     "data": {
      "text/html": [
       "<div>\n",
       "<style scoped>\n",
       "    .dataframe tbody tr th:only-of-type {\n",
       "        vertical-align: middle;\n",
       "    }\n",
       "\n",
       "    .dataframe tbody tr th {\n",
       "        vertical-align: top;\n",
       "    }\n",
       "\n",
       "    .dataframe thead th {\n",
       "        text-align: right;\n",
       "    }\n",
       "</style>\n",
       "<table border=\"1\" class=\"dataframe\">\n",
       "  <thead>\n",
       "    <tr style=\"text-align: right;\">\n",
       "      <th></th>\n",
       "      <th>Id</th>\n",
       "      <th>PostTypeId</th>\n",
       "      <th>CreationDate</th>\n",
       "      <th>Score</th>\n",
       "      <th>ViewCount</th>\n",
       "      <th>Tags</th>\n",
       "      <th>AnswerCount</th>\n",
       "      <th>FavoriteCount</th>\n",
       "    </tr>\n",
       "  </thead>\n",
       "  <tbody>\n",
       "    <tr>\n",
       "      <th>0</th>\n",
       "      <td>38015</td>\n",
       "      <td>1</td>\n",
       "      <td>2018-09-09 22:07:26</td>\n",
       "      <td>0</td>\n",
       "      <td>61.0</td>\n",
       "      <td>&lt;python&gt;&lt;logistic-regression&gt;</td>\n",
       "      <td>1.0</td>\n",
       "      <td>NaN</td>\n",
       "    </tr>\n",
       "    <tr>\n",
       "      <th>1</th>\n",
       "      <td>38016</td>\n",
       "      <td>1</td>\n",
       "      <td>2018-09-09 22:56:40</td>\n",
       "      <td>0</td>\n",
       "      <td>267.0</td>\n",
       "      <td>&lt;python&gt;&lt;r&gt;&lt;visualization&gt;&lt;graphs&gt;&lt;javascript&gt;</td>\n",
       "      <td>2.0</td>\n",
       "      <td>1.0</td>\n",
       "    </tr>\n",
       "    <tr>\n",
       "      <th>2</th>\n",
       "      <td>38017</td>\n",
       "      <td>2</td>\n",
       "      <td>2018-09-09 23:59:38</td>\n",
       "      <td>1</td>\n",
       "      <td>NaN</td>\n",
       "      <td>NaN</td>\n",
       "      <td>NaN</td>\n",
       "      <td>NaN</td>\n",
       "    </tr>\n",
       "    <tr>\n",
       "      <th>3</th>\n",
       "      <td>38018</td>\n",
       "      <td>2</td>\n",
       "      <td>2018-09-10 00:42:50</td>\n",
       "      <td>2</td>\n",
       "      <td>NaN</td>\n",
       "      <td>NaN</td>\n",
       "      <td>NaN</td>\n",
       "      <td>NaN</td>\n",
       "    </tr>\n",
       "    <tr>\n",
       "      <th>4</th>\n",
       "      <td>38019</td>\n",
       "      <td>1</td>\n",
       "      <td>2018-09-10 03:21:18</td>\n",
       "      <td>1</td>\n",
       "      <td>2759.0</td>\n",
       "      <td>&lt;machine-learning&gt;</td>\n",
       "      <td>2.0</td>\n",
       "      <td>NaN</td>\n",
       "    </tr>\n",
       "    <tr>\n",
       "      <th>5</th>\n",
       "      <td>38020</td>\n",
       "      <td>1</td>\n",
       "      <td>2018-09-10 06:11:15</td>\n",
       "      <td>5</td>\n",
       "      <td>14875.0</td>\n",
       "      <td>&lt;keras&gt;&lt;tensorflow&gt;&lt;cross-validation&gt;</td>\n",
       "      <td>2.0</td>\n",
       "      <td>4.0</td>\n",
       "    </tr>\n",
       "    <tr>\n",
       "      <th>6</th>\n",
       "      <td>38021</td>\n",
       "      <td>1</td>\n",
       "      <td>2018-09-10 06:51:59</td>\n",
       "      <td>0</td>\n",
       "      <td>7257.0</td>\n",
       "      <td>&lt;apache-spark&gt;&lt;pyspark&gt;&lt;dataframe&gt;</td>\n",
       "      <td>1.0</td>\n",
       "      <td>NaN</td>\n",
       "    </tr>\n",
       "    <tr>\n",
       "      <th>7</th>\n",
       "      <td>38022</td>\n",
       "      <td>1</td>\n",
       "      <td>2018-09-10 07:07:31</td>\n",
       "      <td>5</td>\n",
       "      <td>426.0</td>\n",
       "      <td>&lt;machine-learning&gt;&lt;nlp&gt;&lt;rnn&gt;&lt;word2vec&gt;</td>\n",
       "      <td>1.0</td>\n",
       "      <td>NaN</td>\n",
       "    </tr>\n",
       "    <tr>\n",
       "      <th>8</th>\n",
       "      <td>38023</td>\n",
       "      <td>1</td>\n",
       "      <td>2018-09-10 07:26:39</td>\n",
       "      <td>0</td>\n",
       "      <td>54.0</td>\n",
       "      <td>&lt;machine-learning&gt;</td>\n",
       "      <td>1.0</td>\n",
       "      <td>NaN</td>\n",
       "    </tr>\n",
       "    <tr>\n",
       "      <th>9</th>\n",
       "      <td>38024</td>\n",
       "      <td>1</td>\n",
       "      <td>2018-09-10 07:28:05</td>\n",
       "      <td>2</td>\n",
       "      <td>47.0</td>\n",
       "      <td>&lt;machine-learning&gt;&lt;dataset&gt;&lt;machine-learning-m...</td>\n",
       "      <td>0.0</td>\n",
       "      <td>NaN</td>\n",
       "    </tr>\n",
       "  </tbody>\n",
       "</table>\n",
       "</div>"
      ],
      "text/plain": [
       "      Id  PostTypeId         CreationDate  Score  ViewCount  \\\n",
       "0  38015           1  2018-09-09 22:07:26      0       61.0   \n",
       "1  38016           1  2018-09-09 22:56:40      0      267.0   \n",
       "2  38017           2  2018-09-09 23:59:38      1        NaN   \n",
       "3  38018           2  2018-09-10 00:42:50      2        NaN   \n",
       "4  38019           1  2018-09-10 03:21:18      1     2759.0   \n",
       "5  38020           1  2018-09-10 06:11:15      5    14875.0   \n",
       "6  38021           1  2018-09-10 06:51:59      0     7257.0   \n",
       "7  38022           1  2018-09-10 07:07:31      5      426.0   \n",
       "8  38023           1  2018-09-10 07:26:39      0       54.0   \n",
       "9  38024           1  2018-09-10 07:28:05      2       47.0   \n",
       "\n",
       "                                                Tags  AnswerCount  \\\n",
       "0                      <python><logistic-regression>          1.0   \n",
       "1     <python><r><visualization><graphs><javascript>          2.0   \n",
       "2                                                NaN          NaN   \n",
       "3                                                NaN          NaN   \n",
       "4                                 <machine-learning>          2.0   \n",
       "5              <keras><tensorflow><cross-validation>          2.0   \n",
       "6                 <apache-spark><pyspark><dataframe>          1.0   \n",
       "7             <machine-learning><nlp><rnn><word2vec>          1.0   \n",
       "8                                 <machine-learning>          1.0   \n",
       "9  <machine-learning><dataset><machine-learning-m...          0.0   \n",
       "\n",
       "   FavoriteCount  \n",
       "0            NaN  \n",
       "1            1.0  \n",
       "2            NaN  \n",
       "3            NaN  \n",
       "4            NaN  \n",
       "5            4.0  \n",
       "6            NaN  \n",
       "7            NaN  \n",
       "8            NaN  \n",
       "9            NaN  "
      ]
     },
     "execution_count": 19,
     "metadata": {},
     "output_type": "execute_result"
    }
   ],
   "source": [
    "data.head(10)"
   ]
  },
  {
   "cell_type": "code",
   "execution_count": 20,
   "metadata": {},
   "outputs": [
    {
     "data": {
      "text/plain": [
       "Id                 int64\n",
       "PostTypeId         int64\n",
       "CreationDate      object\n",
       "Score              int64\n",
       "ViewCount        float64\n",
       "Tags              object\n",
       "AnswerCount      float64\n",
       "FavoriteCount    float64\n",
       "dtype: object"
      ]
     },
     "execution_count": 20,
     "metadata": {},
     "output_type": "execute_result"
    }
   ],
   "source": [
    "data.dtypes"
   ]
  },
  {
   "cell_type": "markdown",
   "metadata": {},
   "source": [
    "### Data Impressions\n",
    "We can see a few things from this data:\n",
    " - There are a LOT of posts that do not have any favourites\n",
    " - There are some posts without answers\n",
    " - There are some posts without tags (they may also be without views)\n",
    " - The tags column type is object. We may need to parse these. \n",
    " \n",
    "_Tags column is most likely the key to our research question. We need to develop a way to rank each tag by some kind of popularity index. The most popular tags will be the ones that we should develop content around_"
   ]
  },
  {
   "cell_type": "code",
   "execution_count": 21,
   "metadata": {},
   "outputs": [
    {
     "data": {
      "text/plain": [
       "Id                        int64\n",
       "PostTypeId                int64\n",
       "CreationDate     datetime64[ns]\n",
       "Score                     int64\n",
       "ViewCount               float64\n",
       "Tags                     object\n",
       "AnswerCount             float64\n",
       "FavoriteCount           float64\n",
       "dtype: object"
      ]
     },
     "execution_count": 21,
     "metadata": {},
     "output_type": "execute_result"
    }
   ],
   "source": [
    "#Set the CreationDate to a datetime\n",
    "data['CreationDate'] = pd.to_datetime(data['CreationDate'], format=\"%Y-%m-%d\", errors='coerce')\n",
    "data.dtypes"
   ]
  },
  {
   "cell_type": "code",
   "execution_count": 22,
   "metadata": {},
   "outputs": [
    {
     "data": {
      "text/html": [
       "<div>\n",
       "<style scoped>\n",
       "    .dataframe tbody tr th:only-of-type {\n",
       "        vertical-align: middle;\n",
       "    }\n",
       "\n",
       "    .dataframe tbody tr th {\n",
       "        vertical-align: top;\n",
       "    }\n",
       "\n",
       "    .dataframe thead th {\n",
       "        text-align: right;\n",
       "    }\n",
       "</style>\n",
       "<table border=\"1\" class=\"dataframe\">\n",
       "  <thead>\n",
       "    <tr style=\"text-align: right;\">\n",
       "      <th></th>\n",
       "      <th>Id</th>\n",
       "      <th>PostTypeId</th>\n",
       "      <th>CreationDate</th>\n",
       "      <th>Score</th>\n",
       "      <th>ViewCount</th>\n",
       "      <th>Tags</th>\n",
       "      <th>AnswerCount</th>\n",
       "      <th>FavoriteCount</th>\n",
       "    </tr>\n",
       "  </thead>\n",
       "  <tbody>\n",
       "    <tr>\n",
       "      <th>0</th>\n",
       "      <td>38015</td>\n",
       "      <td>1</td>\n",
       "      <td>2018-09-09 22:07:26</td>\n",
       "      <td>0</td>\n",
       "      <td>61.0</td>\n",
       "      <td>[python, logistic-regression]</td>\n",
       "      <td>1.0</td>\n",
       "      <td>NaN</td>\n",
       "    </tr>\n",
       "    <tr>\n",
       "      <th>1</th>\n",
       "      <td>38016</td>\n",
       "      <td>1</td>\n",
       "      <td>2018-09-09 22:56:40</td>\n",
       "      <td>0</td>\n",
       "      <td>267.0</td>\n",
       "      <td>[python, r, visualization, graphs, javascript]</td>\n",
       "      <td>2.0</td>\n",
       "      <td>1.0</td>\n",
       "    </tr>\n",
       "    <tr>\n",
       "      <th>4</th>\n",
       "      <td>38019</td>\n",
       "      <td>1</td>\n",
       "      <td>2018-09-10 03:21:18</td>\n",
       "      <td>1</td>\n",
       "      <td>2759.0</td>\n",
       "      <td>[machine-learning]</td>\n",
       "      <td>2.0</td>\n",
       "      <td>NaN</td>\n",
       "    </tr>\n",
       "    <tr>\n",
       "      <th>5</th>\n",
       "      <td>38020</td>\n",
       "      <td>1</td>\n",
       "      <td>2018-09-10 06:11:15</td>\n",
       "      <td>5</td>\n",
       "      <td>14875.0</td>\n",
       "      <td>[keras, tensorflow, cross-validation]</td>\n",
       "      <td>2.0</td>\n",
       "      <td>4.0</td>\n",
       "    </tr>\n",
       "    <tr>\n",
       "      <th>6</th>\n",
       "      <td>38021</td>\n",
       "      <td>1</td>\n",
       "      <td>2018-09-10 06:51:59</td>\n",
       "      <td>0</td>\n",
       "      <td>7257.0</td>\n",
       "      <td>[apache-spark, pyspark, dataframe]</td>\n",
       "      <td>1.0</td>\n",
       "      <td>NaN</td>\n",
       "    </tr>\n",
       "  </tbody>\n",
       "</table>\n",
       "</div>"
      ],
      "text/plain": [
       "      Id  PostTypeId        CreationDate  Score  ViewCount  \\\n",
       "0  38015           1 2018-09-09 22:07:26      0       61.0   \n",
       "1  38016           1 2018-09-09 22:56:40      0      267.0   \n",
       "4  38019           1 2018-09-10 03:21:18      1     2759.0   \n",
       "5  38020           1 2018-09-10 06:11:15      5    14875.0   \n",
       "6  38021           1 2018-09-10 06:51:59      0     7257.0   \n",
       "\n",
       "                                             Tags  AnswerCount  FavoriteCount  \n",
       "0                   [python, logistic-regression]          1.0            NaN  \n",
       "1  [python, r, visualization, graphs, javascript]          2.0            1.0  \n",
       "4                              [machine-learning]          2.0            NaN  \n",
       "5           [keras, tensorflow, cross-validation]          2.0            4.0  \n",
       "6              [apache-spark, pyspark, dataframe]          1.0            NaN  "
      ]
     },
     "execution_count": 22,
     "metadata": {},
     "output_type": "execute_result"
    }
   ],
   "source": [
    "#Fix the Tags field \n",
    "data['Tags'] = data['Tags'].str.replace('><', ',')\n",
    "data['Tags'] = data['Tags'].str.replace('>', '')\n",
    "data['Tags'] = data['Tags'].str.replace('<', '')\n",
    "data['Tags'] = data['Tags'].str.split(',')\n",
    "\n",
    "#drop any rows where the tags are NaN\n",
    "data = data[data['Tags'].notna()]\n",
    "data.head()"
   ]
  },
  {
   "cell_type": "markdown",
   "metadata": {},
   "source": [
    "Great, now I have separated the tags into lists of tags. I have also changed the creation date to datetime format for easier parsing\n",
    "\n",
    "### Creating proxies for tag popularity\n",
    "Now we want to see how popular each tag is. We can use different proxies for this:\n",
    " - How many times the tag was used overall\n",
    " - How many times a question with that tag was viewed"
   ]
  },
  {
   "cell_type": "code",
   "execution_count": 23,
   "metadata": {},
   "outputs": [
    {
     "name": "stdout",
     "output_type": "stream",
     "text": [
      "('machine-learning', 7243)\n",
      "('python', 4239)\n",
      "('neural-network', 3009)\n",
      "('deep-learning', 3006)\n",
      "('classification', 2135)\n",
      "('keras', 1879)\n",
      "('nlp', 1533)\n",
      "('scikit-learn', 1463)\n",
      "('tensorflow', 1408)\n",
      "('time-series', 1103)\n"
     ]
    }
   ],
   "source": [
    "#How many times does a tag get USED?\n",
    "\n",
    "#Create a dictionary of all tags, then find the ones with the most count\n",
    "tagCounts = {}\n",
    "\n",
    "def parseTags(row): \n",
    "    tags = row['Tags']\n",
    "    for tag in tags :\n",
    "        if tag in tagCounts :\n",
    "            tagCounts[tag] += 1\n",
    "        else :\n",
    "            tagCounts[tag] = 1\n",
    "\n",
    "#Run the function on each row\n",
    "data.apply(parseTags, axis=1)\n",
    "\n",
    "#sort the dictionary\n",
    "tagCounts = sorted(tagCounts.items(), key=lambda x:x[1], reverse=True)\n",
    "for i in range(0,10) :\n",
    "    print(tagCounts[i])"
   ]
  },
  {
   "cell_type": "code",
   "execution_count": 24,
   "metadata": {},
   "outputs": [
    {
     "name": "stdout",
     "output_type": "stream",
     "text": [
      "('machine-learning', 13020860.0)\n",
      "('python', 12910275.0)\n",
      "('neural-network', 6306019.0)\n",
      "('deep-learning', 5612304.0)\n",
      "('pandas', 5106267.0)\n",
      "('scikit-learn', 4370001.0)\n",
      "('keras', 3888898.0)\n",
      "('classification', 2683773.0)\n",
      "('r', 2680767.0)\n",
      "('tensorflow', 2379462.0)\n"
     ]
    }
   ],
   "source": [
    "# How many times does a tag get VIEWED?\n",
    "\n",
    "#Create a dictionary of all tags, then find the ones with the most views\n",
    "tagViews = {}\n",
    "\n",
    "def parseViews(row) :\n",
    "    tags = row['Tags']\n",
    "    views = row['ViewCount']\n",
    "    for tag in tags :\n",
    "        if tag in tagViews :\n",
    "            tagViews[tag] += views\n",
    "        else : \n",
    "            tagViews[tag] = views\n",
    "\n",
    "#run the function on each row\n",
    "data.apply(parseViews, axis=1)\n",
    "\n",
    "#sort the dictionary\n",
    "tagViews = sorted(tagViews.items(), key=lambda x:x[1], reverse=True)\n",
    "for i in range(0,10) :\n",
    "    print(tagViews[i])"
   ]
  },
  {
   "cell_type": "code",
   "execution_count": 38,
   "metadata": {},
   "outputs": [
    {
     "data": {
      "image/png": "[encoded data removed]",
      "text/plain": [
       "<Figure size 720x360 with 1 Axes>"
      ]
     },
     "metadata": {
      "needs_background": "light"
     },
     "output_type": "display_data"
    }
   ],
   "source": [
    "#plot them\n",
    "fig, ax = plt.subplots(figsize =(10,5))\n",
    "\n",
    "#prep the keys and values from the list of key-valyes (it seems that sorting the dicitonary returned a list, so need to handle that)\n",
    "countKeys = []\n",
    "countValues = []\n",
    "for i in range(0,10) :\n",
    "    cur = tagCounts[i]\n",
    "    countKeys.insert(0,cur[0])\n",
    "    countValues.insert(0,cur[1])\n",
    "\n",
    "plt.barh(countKeys, countValues)\n",
    "plt.title('Top 10 Data Science Tags from Stack Overflow, to 2021')\n",
    "plt.show()"
   ]
  },
  {
   "cell_type": "code",
   "execution_count": 40,
   "metadata": {},
   "outputs": [
    {
     "data": {
      "image/png": "[encoded data removed]",
      "text/plain": [
       "<Figure size 720x360 with 1 Axes>"
      ]
     },
     "metadata": {
      "needs_background": "light"
     },
     "output_type": "display_data"
    }
   ],
   "source": [
    "#plot them\n",
    "fig, ax = plt.subplots(figsize =(10,5))\n",
    "\n",
    "#prep the keys and values from the list of key-valyes (it seems that sorting the dicitonary returned a list, so need to handle that)\n",
    "viewKeys = []\n",
    "viewValues = []\n",
    "for i in range(0,10) :\n",
    "    cur = tagViews[i]\n",
    "    viewKeys.insert(0,cur[0])\n",
    "    viewValues.insert(0,cur[1])\n",
    "\n",
    "plt.barh(viewKeys, viewValues)\n",
    "plt.title('Top 10 Data Science Tags from Stack Overflow - BY VIEWS, to 2021')\n",
    "plt.show()"
   ]
  },
  {
   "cell_type": "markdown",
   "metadata": {},
   "source": [
    "### Observations\n",
    "So we can see that by either Views or Cumulative tag counts, the most popular topics are: \n",
    " - Machine Learning\n",
    " - Python\n",
    " - Neural Networks\n",
    " - Deep Learning\n",
    " \n",
    "What we can determine then, is that these 4 topics are continually the most popular in data-science oriented stack overflow. We might consider that these are topics that would generate lots of interest in content development. \n",
    "\n",
    "\n",
    "#### _Potential next steps_\n",
    "_We might also consider that \"Pandas\" appears only a few spaces below \"Python\" and from our own knowledge we know that these are related. We should realize then, that Pandas/Python might be a very important topic to cover, even though pandas isn't explicitly a top tag, it is implied to be super important._ \n",
    "\n",
    "_We won't go into exploring these relationships here, but one way would be to identify which tags are commonly used together (posts can have multiple tags). By identifying common cross-tagged posts, we can help to better identify the relationships between different tags_\n",
    "<br>"
   ]
  },
  {
   "cell_type": "code",
   "execution_count": null,
   "metadata": {},
   "outputs": [],
   "source": []
  },
  {
   "cell_type": "code",
   "execution_count": null,
   "metadata": {},
   "outputs": [],
   "source": []
  }
 ],
 "metadata": {
  "kernelspec": {
   "display_name": "Python 3",
   "language": "python",
   "name": "python3"
  },
  "language_info": {
   "codemirror_mode": {
    "name": "ipython",
    "version": 3
   },
   "file_extension": ".py",
   "mimetype": "text/x-python",
   "name": "python",
   "nbconvert_exporter": "python",
   "pygments_lexer": "ipython3",
   "version": "3.8.5"
  }
 },
 "nbformat": 4,
 "nbformat_minor": 4
}
