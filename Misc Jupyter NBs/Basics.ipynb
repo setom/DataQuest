{
 "cells": [
  {
   "cell_type": "markdown",
   "metadata": {},
   "source": [
    "# Dataquest.io Project 1\n",
    "\n",
    "This is the first project as part of the Dataquest.io Data Scientist in Python path. In this project we work as an analyst for an Android/iOS app development company that generates all revenue from in-app ads. (No paid apps). We use data analysis to identify trends for our team to understand what types of apps are likely to attract more users. "
   ]
  },
  {
   "cell_type": "markdown",
   "metadata": {},
   "source": [
    "## Pull the data\n",
    "First we pull and inspect the data to make sure it's in a format that we can work with. We can check a sample of the data to see what it looks like. \n",
    "\n",
    "The datasets come in format described here: https://www.kaggle.com/ramamet4/app-store-apple-data-set-10k-apps\n",
    "\n",
    "https://www.kaggle.com/lava18/google-play-store-apps"
   ]
  },
  {
   "cell_type": "code",
   "execution_count": 1,
   "metadata": {
    "collapsed": false
   },
   "outputs": [
    {
     "name": "stdout",
     "output_type": "stream",
     "text": [
      "['id', 'track_name', 'size_bytes', 'currency', 'price', 'rating_count_tot', 'rating_count_ver', 'user_rating', 'user_rating_ver', 'ver', 'cont_rating', 'prime_genre', 'sup_devices.num', 'ipadSc_urls.num', 'lang.num', 'vpp_lic']\n",
      "\n",
      "\n",
      "['284882215', 'Facebook', '389879808', 'USD', '0.0', '2974676', '212', '3.5', '3.5', '95.0', '4+', 'Social Networking', '37', '1', '29', '1']\n",
      "\n",
      "\n",
      "['389801252', 'Instagram', '113954816', 'USD', '0.0', '2161558', '1289', '4.5', '4.0', '10.23', '12+', 'Photo & Video', '37', '0', '29', '1']\n",
      "\n",
      "\n",
      "['529479190', 'Clash of Clans', '116476928', 'USD', '0.0', '2130805', '579', '4.5', '4.5', '9.24.12', '9+', 'Games', '38', '5', '18', '1']\n",
      "\n",
      "\n",
      "['420009108', 'Temple Run', '65921024', 'USD', '0.0', '1724546', '3842', '4.5', '4.0', '1.6.2', '9+', 'Games', '40', '5', '1', '1']\n",
      "\n",
      "\n",
      "['App', 'Category', 'Rating', 'Reviews', 'Size', 'Installs', 'Type', 'Price', 'Content Rating', 'Genres', 'Last Updated', 'Current Ver', 'Android Ver']\n",
      "\n",
      "\n",
      "['Photo Editor & Candy Camera & Grid & ScrapBook', 'ART_AND_DESIGN', '4.1', '159', '19M', '10,000+', 'Free', '0', 'Everyone', 'Art & Design', 'January 7, 2018', '1.0.0', '4.0.3 and up']\n",
      "\n",
      "\n",
      "['Coloring book moana', 'ART_AND_DESIGN', '3.9', '967', '14M', '500,000+', 'Free', '0', 'Everyone', 'Art & Design;Pretend Play', 'January 15, 2018', '2.0.0', '4.0.3 and up']\n",
      "\n",
      "\n",
      "['U Launcher Lite – FREE Live Cool Themes, Hide Apps', 'ART_AND_DESIGN', '4.7', '87510', '8.7M', '5,000,000+', 'Free', '0', 'Everyone', 'Art & Design', 'August 1, 2018', '1.2.4', '4.0.3 and up']\n",
      "\n",
      "\n",
      "['Sketch - Draw & Paint', 'ART_AND_DESIGN', '4.5', '215644', '25M', '50,000,000+', 'Free', '0', 'Teen', 'Art & Design', 'June 8, 2018', 'Varies with device', '4.2 and up']\n",
      "\n",
      "\n"
     ]
    }
   ],
   "source": [
    "#Get the apple store and google play store sample data\n",
    "openedFile = open('AppleStore.csv')\n",
    "from csv import reader\n",
    "read_file = reader(openedFile)\n",
    "appleStore_Data = list(read_file)\n",
    "\n",
    "openedFile = open('googleplaystore.csv')\n",
    "read_file = reader(openedFile)\n",
    "googlePlayStore_Data = list(read_file)\n",
    "\n",
    "#Print the first few lines of each to confirm the're there\n",
    "def explore_data(dataset, start, end, rows_and_columns=False):\n",
    "    dataset_slice = dataset[start:end]    \n",
    "    for row in dataset_slice:\n",
    "        print(row)\n",
    "        print('\\n') # adds a new (empty) line after each row\n",
    "\n",
    "    if rows_and_columns:\n",
    "        print('Number of rows:', len(dataset))\n",
    "        print('Number of columns:', len(dataset[0]))\n",
    "        \n",
    "        \n",
    "explore_data(appleStore_Data, 0, 5)\n",
    "explore_data(googlePlayStore_Data, 0,5)"
   ]
  },
  {
   "cell_type": "code",
   "execution_count": 2,
   "metadata": {
    "collapsed": false
   },
   "outputs": [
    {
     "name": "stdout",
     "output_type": "stream",
     "text": [
      "Apple Store Data:\n",
      "Number of rows: 7198\n",
      "Number of columns: 16\n",
      "Google Play Store Data:\n",
      "Number of rows: 10842\n",
      "Number of columns: 13\n"
     ]
    }
   ],
   "source": [
    "#Check how many columns are in each\n",
    "print(\"Apple Store Data:\")\n",
    "explore_data(appleStore_Data, 0, 0, rows_and_columns = True)\n",
    "print(\"Google Play Store Data:\")\n",
    "explore_data(googlePlayStore_Data, 0, 0, rows_and_columns = True)"
   ]
  },
  {
   "cell_type": "markdown",
   "metadata": {},
   "source": [
    "## Begin cleaning the data:\n",
    "\n",
    "There is a row with an error in the Google Play data, using this as an example we can remove the erroneous row to begin cleaning\n",
    "\n",
    "https://www.kaggle.com/lava18/google-play-store-apps/discussion/66015"
   ]
  },
  {
   "cell_type": "code",
   "execution_count": 3,
   "metadata": {
    "collapsed": false
   },
   "outputs": [
    {
     "name": "stdout",
     "output_type": "stream",
     "text": [
      "['App', 'Category', 'Rating', 'Reviews', 'Size', 'Installs', 'Type', 'Price', 'Content Rating', 'Genres', 'Last Updated', 'Current Ver', 'Android Ver']\n",
      "['TownWiFi | Wi-Fi Everywhere', 'COMMUNICATION', '3.9', '2372', '58M', '500,000+', 'Free', '0', 'Everyone', 'Communication', 'August 2, 2018', '4.2.1', '4.2 and up']\n",
      "\n",
      "\n",
      "['Jazz Wi-Fi', 'COMMUNICATION', '3.4', '49', '4.0M', '10,000+', 'Free', '0', 'Everyone', 'Communication', 'February 10, 2017', '0.1', '2.3 and up']\n",
      "\n",
      "\n",
      "['Xposed Wi-Fi-Pwd', 'PERSONALIZATION', '3.5', '1042', '404k', '100,000+', 'Free', '0', 'Everyone', 'Personalization', 'August 5, 2014', '3.0.0', '4.0.3 and up']\n",
      "\n",
      "\n",
      "['Life Made WI-Fi Touchscreen Photo Frame', '1.9', '19', '3.0M', '1,000+', 'Free', '0', 'Everyone', '', 'February 11, 2018', '1.0.19', '4.0 and up']\n",
      "\n",
      "\n",
      "['osmino Wi-Fi: free WiFi', 'TOOLS', '4.2', '134203', '4.1M', '10,000,000+', 'Free', '0', 'Everyone', 'Tools', 'August 7, 2018', '6.06.14', '4.4 and up']\n",
      "\n",
      "\n"
     ]
    }
   ],
   "source": [
    "#It seems like the error might be around row 10472 (from the link). print the rows around there to check\n",
    "print(googlePlayStore_Data[0])\n",
    "explore_data(googlePlayStore_Data, 10470, 10475)"
   ]
  },
  {
   "cell_type": "code",
   "execution_count": 4,
   "metadata": {
    "collapsed": false
   },
   "outputs": [
    {
     "name": "stdout",
     "output_type": "stream",
     "text": [
      "['Life Made WI-Fi Touchscreen Photo Frame', '1.9', '19', '3.0M', '1,000+', 'Free', '0', 'Everyone', '', 'February 11, 2018', '1.0.19', '4.0 and up']\n",
      "12\n",
      "13\n"
     ]
    }
   ],
   "source": [
    "#It looks like row 10473 is missing the CATEGORY field. Let's confirm that\n",
    "print(googlePlayStore_Data[10473])\n",
    "print(len(googlePlayStore_Data[10473]))\n",
    "print(len(googlePlayStore_Data[0]))"
   ]
  },
  {
   "cell_type": "code",
   "execution_count": 5,
   "metadata": {
    "collapsed": true
   },
   "outputs": [],
   "source": [
    "#There is a missing field in that data, lets just delete that row\n",
    "del googlePlayStore_Data[10473]"
   ]
  },
  {
   "cell_type": "markdown",
   "metadata": {},
   "source": [
    "## Removing duplicate entries\n",
    "### Identify duplicates\n",
    "In this section we will identify duplicate entries in the data. We aren't randomly deleting duplicates, we will keep the entry with the highest number of reviews for futher analysis\n",
    "\n"
   ]
  },
  {
   "cell_type": "code",
   "execution_count": 6,
   "metadata": {
    "collapsed": false
   },
   "outputs": [
    {
     "name": "stdout",
     "output_type": "stream",
     "text": [
      "Number of duplicate Android Apps: 1181\n",
      "Number of duplicate Apple Apps: 2\n"
     ]
    }
   ],
   "source": [
    "#Create lists to hold duplicates\n",
    "androidDuplicates = []\n",
    "androidUnique = []\n",
    "appleDuplicates = []\n",
    "appleUnique = []\n",
    "\n",
    "for app in googlePlayStore_Data:\n",
    "    appName = app[0]\n",
    "    if appName in androidUnique:\n",
    "        androidDuplicates.append(appName)\n",
    "    else :\n",
    "        androidUnique.append(appName)\n",
    "\n",
    "for app in appleStore_Data:\n",
    "    appName = app[1]\n",
    "    if appName in appleUnique :\n",
    "        appleDuplicates.append(appName)\n",
    "    else: \n",
    "        appleUnique.append(appName)\n",
    "\n",
    "print(\"Number of duplicate Android Apps: \" + str(len(androidDuplicates)))\n",
    "print(\"Number of duplicate Apple Apps: \" + str(len(appleDuplicates)))"
   ]
  },
  {
   "cell_type": "code",
   "execution_count": 7,
   "metadata": {
    "collapsed": false
   },
   "outputs": [
    {
     "name": "stdout",
     "output_type": "stream",
     "text": [
      "The expected length of the dictionary is :  9659\n",
      "The actual length of the dictionary is :  9659\n"
     ]
    }
   ],
   "source": [
    "#Create a dictionary of the app name & number of reviews that row has\n",
    "reviews_max = {}\n",
    "for app in googlePlayStore_Data[1:] :\n",
    "    name = app[0]\n",
    "    n_reviews = float(app[3])\n",
    "    if name in reviews_max and reviews_max[name] < n_reviews :\n",
    "        reviews_max[name] = n_reviews\n",
    "    if name not in reviews_max :\n",
    "        reviews_max[name] = n_reviews\n",
    "        \n",
    "#Subrtact 1 for the header row\n",
    "print('The expected length of the dictionary is : ', (len(googlePlayStore_Data) - 1181)-1)\n",
    "print('The actual length of the dictionary is : ', len(reviews_max))\n",
    "    "
   ]
  },
  {
   "cell_type": "code",
   "execution_count": 8,
   "metadata": {
    "collapsed": false
   },
   "outputs": [
    {
     "name": "stdout",
     "output_type": "stream",
     "text": [
      "['Photo Editor & Candy Camera & Grid & ScrapBook', 'ART_AND_DESIGN', '4.1', '159', '19M', '10,000+', 'Free', '0', 'Everyone', 'Art & Design', 'January 7, 2018', '1.0.0', '4.0.3 and up']\n",
      "\n",
      "\n",
      "['U Launcher Lite – FREE Live Cool Themes, Hide Apps', 'ART_AND_DESIGN', '4.7', '87510', '8.7M', '5,000,000+', 'Free', '0', 'Everyone', 'Art & Design', 'August 1, 2018', '1.2.4', '4.0.3 and up']\n",
      "\n",
      "\n",
      "['Sketch - Draw & Paint', 'ART_AND_DESIGN', '4.5', '215644', '25M', '50,000,000+', 'Free', '0', 'Teen', 'Art & Design', 'June 8, 2018', 'Varies with device', '4.2 and up']\n",
      "\n",
      "\n",
      "Number of rows: 9659\n",
      "Number of columns: 13\n"
     ]
    }
   ],
   "source": [
    "#Now that I have a list of duplicates, I can get cleaned data from it\n",
    "android_clean = []\n",
    "already_added = []\n",
    "\n",
    "for row in googlePlayStore_Data[1:] :\n",
    "    name = row[0]\n",
    "    n_reviews = float(row[3])\n",
    "    if n_reviews == reviews_max[name] and name not in already_added :\n",
    "        android_clean.append(row)\n",
    "        already_added.append(name)\n",
    "\n",
    "explore_data(android_clean, 0, 3, True)"
   ]
  },
  {
   "cell_type": "markdown",
   "metadata": {
    "collapsed": true
   },
   "source": [
    "## Removing non-english entries\n",
    "The apple store data contains non-english entries that need to be removed\n",
    "\n",
    "### Identifying non-english characters using ASCII code\n"
   ]
  },
  {
   "cell_type": "code",
   "execution_count": 9,
   "metadata": {
    "collapsed": false
   },
   "outputs": [
    {
     "name": "stdout",
     "output_type": "stream",
     "text": [
      "True\n",
      "False\n",
      "True\n",
      "True\n"
     ]
    }
   ],
   "source": [
    "#Write a function to check a string for ascii codes > 127. If there are >3 non-english characters bounce it\n",
    "#test it with some strings\n",
    "def isStringEnglish(inputString) :\n",
    "    nonEnglishCharacterCounter = 0\n",
    "    for character in inputString :\n",
    "        if(ord(character) > 127) :\n",
    "            nonEnglishCharacterCounter += 1\n",
    "            if(nonEnglishCharacterCounter > 3) :\n",
    "                return False\n",
    "    \n",
    "    return True\n",
    "\n",
    "\n",
    "print(isStringEnglish('Instagram'))\n",
    "print(isStringEnglish('爱奇艺PPS -《欢乐颂2》电视剧热播'))\n",
    "print(isStringEnglish('Docs To Go™ Free Office Suite'))\n",
    "print(isStringEnglish('Instachat 😜'))"
   ]
  },
  {
   "cell_type": "code",
   "execution_count": 10,
   "metadata": {
    "collapsed": false
   },
   "outputs": [
    {
     "name": "stdout",
     "output_type": "stream",
     "text": [
      "['284882215', 'Facebook', '389879808', 'USD', '0.0', '2974676', '212', '3.5', '3.5', '95.0', '4+', 'Social Networking', '37', '1', '29', '1']\n",
      "\n",
      "\n",
      "Number of rows: 6183\n",
      "Number of columns: 16\n"
     ]
    }
   ],
   "source": [
    "#Remove non-english apps from the apple dataset. \n",
    "apple_clean = []\n",
    "\n",
    "for row in appleStore_Data[1:] :\n",
    "    if isStringEnglish(row[1]) :\n",
    "        apple_clean.append(row)\n",
    "        \n",
    "explore_data(apple_clean, 0, 1, True)"
   ]
  },
  {
   "cell_type": "markdown",
   "metadata": {},
   "source": [
    "## Finish cleaning the data\n",
    "### Isolating ONLY free apps, remove paid apps from both Android and Apple Clean lists\n",
    "\n",
    "Since our team produces free-to-play apps, we only want to compare against other free to play apps. Remove anything that's paid from each list"
   ]
  },
  {
   "cell_type": "code",
   "execution_count": 11,
   "metadata": {
    "collapsed": false
   },
   "outputs": [
    {
     "name": "stdout",
     "output_type": "stream",
     "text": [
      "['Photo Editor & Candy Camera & Grid & ScrapBook', 'ART_AND_DESIGN', '4.1', '159', '19M', '10,000+', 'Free', '0', 'Everyone', 'Art & Design', 'January 7, 2018', '1.0.0', '4.0.3 and up']\n",
      "\n",
      "\n",
      "['U Launcher Lite – FREE Live Cool Themes, Hide Apps', 'ART_AND_DESIGN', '4.7', '87510', '8.7M', '5,000,000+', 'Free', '0', 'Everyone', 'Art & Design', 'August 1, 2018', '1.2.4', '4.0.3 and up']\n",
      "\n",
      "\n",
      "['Sketch - Draw & Paint', 'ART_AND_DESIGN', '4.5', '215644', '25M', '50,000,000+', 'Free', '0', 'Teen', 'Art & Design', 'June 8, 2018', 'Varies with device', '4.2 and up']\n",
      "\n",
      "\n",
      "['Pixel Draw - Number Art Coloring Book', 'ART_AND_DESIGN', '4.3', '967', '2.8M', '100,000+', 'Free', '0', 'Everyone', 'Art & Design;Creativity', 'June 20, 2018', '1.1', '4.4 and up']\n",
      "\n",
      "\n",
      "['Paper flowers instructions', 'ART_AND_DESIGN', '4.4', '167', '5.6M', '50,000+', 'Free', '0', 'Everyone', 'Art & Design', 'March 26, 2017', '1.0', '2.3 and up']\n",
      "\n",
      "\n",
      "Number of rows: 8905\n",
      "Number of columns: 13\n",
      "['284882215', 'Facebook', '389879808', 'USD', '0.0', '2974676', '212', '3.5', '3.5', '95.0', '4+', 'Social Networking', '37', '1', '29', '1']\n",
      "\n",
      "\n",
      "['389801252', 'Instagram', '113954816', 'USD', '0.0', '2161558', '1289', '4.5', '4.0', '10.23', '12+', 'Photo & Video', '37', '0', '29', '1']\n",
      "\n",
      "\n",
      "['529479190', 'Clash of Clans', '116476928', 'USD', '0.0', '2130805', '579', '4.5', '4.5', '9.24.12', '9+', 'Games', '38', '5', '18', '1']\n",
      "\n",
      "\n",
      "['420009108', 'Temple Run', '65921024', 'USD', '0.0', '1724546', '3842', '4.5', '4.0', '1.6.2', '9+', 'Games', '40', '5', '1', '1']\n",
      "\n",
      "\n",
      "['284035177', 'Pandora - Music & Radio', '130242560', 'USD', '0.0', '1126879', '3594', '4.0', '4.5', '8.4.1', '12+', 'Music', '37', '4', '1', '1']\n",
      "\n",
      "\n",
      "Number of rows: 3222\n",
      "Number of columns: 16\n"
     ]
    }
   ],
   "source": [
    "android_clean_free = []\n",
    "apple_clean_free = []\n",
    "\n",
    "def isAppFree(dataRow, android = True) :\n",
    "    #for android app rows\n",
    "    if (android):\n",
    "        price = dataRow[7]\n",
    "        if price == '0' :\n",
    "            return True\n",
    "        return False\n",
    "    #For apple store rows\n",
    "    if (android == False):\n",
    "        price = dataRow[4]\n",
    "        if price == '0.0' :\n",
    "            return True\n",
    "        return False\n",
    "    \n",
    "for app in android_clean :\n",
    "    if isAppFree(app, True) :\n",
    "        android_clean_free.append(app)\n",
    "\n",
    "for app in apple_clean : \n",
    "    if isAppFree(app, False) :\n",
    "        apple_clean_free.append(app)\n",
    "        \n",
    "explore_data(android_clean_free, 0, 5, True)\n",
    "explore_data(apple_clean_free, 0, 5, True)"
   ]
  },
  {
   "cell_type": "markdown",
   "metadata": {},
   "source": [
    "# End Data Cleaning -----------------------\n"
   ]
  },
  {
   "cell_type": "markdown",
   "metadata": {},
   "source": [
    "# Analysis \n",
    "Now that the data is clean, we can begin to analyse it. \n",
    "\n",
    "#### We want to identify games that are likely to attract users to our fremium apps. \n",
    "The strategy is to: \n",
    "1 - build an MVP android app and post to Google Play\n",
    "2 - If the response is good we build out features\n",
    "3 - If it is profitable after 6 months, build for iOS\n",
    "\n",
    "Therefore we need to identify apps that are successful in both Android AND iOS"
   ]
  },
  {
   "cell_type": "code",
   "execution_count": 12,
   "metadata": {
    "collapsed": false
   },
   "outputs": [
    {
     "name": "stdout",
     "output_type": "stream",
     "text": [
      "******Apple\n",
      "Games : 58.16\n",
      "Entertainment : 7.88\n",
      "Photo & Video : 4.97\n",
      "Education : 3.66\n",
      "Social Networking : 3.29\n",
      "Shopping : 2.61\n",
      "Utilities : 2.51\n",
      "Sports : 2.14\n",
      "Music : 2.05\n",
      "Health & Fitness : 2.02\n",
      "Productivity : 1.74\n",
      "Lifestyle : 1.58\n",
      "News : 1.33\n",
      "Travel : 1.24\n",
      "Finance : 1.12\n",
      "Weather : 0.87\n",
      "Food & Drink : 0.81\n",
      "Reference : 0.56\n",
      "Business : 0.53\n",
      "Book : 0.43\n",
      "Navigation : 0.19\n",
      "Medical : 0.19\n",
      "Catalogs : 0.12\n",
      "******Android\n",
      "FAMILY : 18.98\n",
      "GAME : 9.7\n",
      "TOOLS : 8.43\n",
      "BUSINESS : 4.58\n",
      "LIFESTYLE : 3.93\n",
      "PRODUCTIVITY : 3.89\n",
      "FINANCE : 3.68\n",
      "MEDICAL : 3.51\n",
      "SPORTS : 3.38\n",
      "PERSONALIZATION : 3.31\n",
      "COMMUNICATION : 3.23\n",
      "HEALTH_AND_FITNESS : 3.07\n",
      "PHOTOGRAPHY : 2.94\n",
      "NEWS_AND_MAGAZINES : 2.83\n",
      "SOCIAL : 2.65\n",
      "TRAVEL_AND_LOCAL : 2.32\n",
      "SHOPPING : 2.25\n",
      "BOOKS_AND_REFERENCE : 2.18\n",
      "DATING : 1.85\n",
      "VIDEO_PLAYERS : 1.8\n",
      "MAPS_AND_NAVIGATION : 1.41\n",
      "FOOD_AND_DRINK : 1.24\n",
      "EDUCATION : 1.17\n",
      "ENTERTAINMENT : 0.95\n",
      "LIBRARIES_AND_DEMO : 0.93\n",
      "AUTO_AND_VEHICLES : 0.92\n",
      "HOUSE_AND_HOME : 0.82\n",
      "WEATHER : 0.8\n",
      "EVENTS : 0.71\n",
      "PARENTING : 0.65\n",
      "ART_AND_DESIGN : 0.65\n",
      "COMICS : 0.63\n",
      "BEAUTY : 0.6\n",
      "******Android\n",
      "Tools : 8.42\n",
      "Entertainment : 6.09\n",
      "Education : 5.39\n",
      "Business : 4.58\n",
      "Lifestyle : 3.92\n",
      "Productivity : 3.89\n",
      "Finance : 3.68\n",
      "Medical : 3.51\n",
      "Sports : 3.45\n",
      "Personalization : 3.31\n",
      "Communication : 3.23\n",
      "Action : 3.09\n",
      "Health & Fitness : 3.07\n",
      "Photography : 2.94\n",
      "News & Magazines : 2.83\n",
      "Social : 2.65\n",
      "Travel & Local : 2.31\n",
      "Shopping : 2.25\n",
      "Books & Reference : 2.18\n",
      "Simulation : 2.07\n",
      "Dating : 1.85\n",
      "Arcade : 1.84\n",
      "Video Players & Editors : 1.77\n",
      "Casual : 1.75\n",
      "Maps & Navigation : 1.41\n",
      "Food & Drink : 1.24\n",
      "Puzzle : 1.12\n",
      "Racing : 0.99\n",
      "Role Playing : 0.93\n",
      "Libraries & Demo : 0.93\n",
      "Strategy : 0.92\n",
      "Auto & Vehicles : 0.92\n",
      "House & Home : 0.82\n",
      "Weather : 0.8\n",
      "Events : 0.71\n",
      "Adventure : 0.69\n",
      "Comics : 0.62\n",
      "Art & Design : 0.61\n",
      "Beauty : 0.6\n",
      "Parenting : 0.49\n",
      "Card : 0.45\n",
      "Trivia : 0.43\n",
      "Casino : 0.43\n",
      "Educational;Education : 0.39\n",
      "Board : 0.38\n",
      "Educational : 0.37\n",
      "Education;Education : 0.35\n",
      "Word : 0.26\n",
      "Casual;Pretend Play : 0.24\n",
      "Music : 0.2\n",
      "Racing;Action & Adventure : 0.17\n",
      "Puzzle;Brain Games : 0.17\n",
      "Entertainment;Music & Video : 0.17\n",
      "Casual;Brain Games : 0.13\n",
      "Casual;Action & Adventure : 0.13\n",
      "Arcade;Action & Adventure : 0.12\n",
      "Action;Action & Adventure : 0.1\n",
      "Educational;Pretend Play : 0.09\n",
      "Simulation;Action & Adventure : 0.08\n",
      "Parenting;Education : 0.08\n",
      "Entertainment;Brain Games : 0.08\n",
      "Board;Brain Games : 0.08\n",
      "Parenting;Music & Video : 0.07\n",
      "Educational;Brain Games : 0.07\n",
      "Casual;Creativity : 0.07\n",
      "Art & Design;Creativity : 0.07\n",
      "Education;Pretend Play : 0.06\n",
      "Role Playing;Pretend Play : 0.04\n",
      "Education;Creativity : 0.04\n",
      "Role Playing;Action & Adventure : 0.03\n",
      "Puzzle;Action & Adventure : 0.03\n",
      "Entertainment;Creativity : 0.03\n",
      "Entertainment;Action & Adventure : 0.03\n",
      "Educational;Creativity : 0.03\n",
      "Educational;Action & Adventure : 0.03\n",
      "Education;Music & Video : 0.03\n",
      "Education;Brain Games : 0.03\n",
      "Education;Action & Adventure : 0.03\n",
      "Adventure;Action & Adventure : 0.03\n",
      "Video Players & Editors;Music & Video : 0.02\n",
      "Sports;Action & Adventure : 0.02\n",
      "Simulation;Pretend Play : 0.02\n",
      "Puzzle;Creativity : 0.02\n",
      "Music;Music & Video : 0.02\n",
      "Entertainment;Pretend Play : 0.02\n",
      "Casual;Education : 0.02\n",
      "Board;Action & Adventure : 0.02\n",
      "Video Players & Editors;Creativity : 0.01\n",
      "Trivia;Education : 0.01\n",
      "Travel & Local;Action & Adventure : 0.01\n",
      "Tools;Education : 0.01\n",
      "Strategy;Education : 0.01\n",
      "Strategy;Creativity : 0.01\n",
      "Strategy;Action & Adventure : 0.01\n",
      "Simulation;Education : 0.01\n",
      "Role Playing;Brain Games : 0.01\n",
      "Racing;Pretend Play : 0.01\n",
      "Puzzle;Education : 0.01\n",
      "Parenting;Brain Games : 0.01\n",
      "Music & Audio;Music & Video : 0.01\n",
      "Lifestyle;Pretend Play : 0.01\n",
      "Lifestyle;Education : 0.01\n",
      "Health & Fitness;Education : 0.01\n",
      "Health & Fitness;Action & Adventure : 0.01\n",
      "Entertainment;Education : 0.01\n",
      "Communication;Creativity : 0.01\n",
      "Comics;Creativity : 0.01\n",
      "Casual;Music & Video : 0.01\n",
      "Card;Action & Adventure : 0.01\n",
      "Books & Reference;Education : 0.01\n",
      "Art & Design;Pretend Play : 0.01\n",
      "Art & Design;Action & Adventure : 0.01\n",
      "Arcade;Pretend Play : 0.01\n",
      "Adventure;Education : 0.01\n"
     ]
    }
   ],
   "source": [
    "#Create frequency tables of app types for both android and iOS\n",
    "android_freq = {}\n",
    "apple_frew = {}\n",
    "\n",
    "#Fields I might need\n",
    "#11 - apple\n",
    "#1,9 - android\n",
    "\n",
    "#A function that takes in a dataset and an indec value, returns a frequency table of that index\n",
    "def freq_table(inData, inIndex) :\n",
    "    numItems = 0\n",
    "    outDict = {}\n",
    "    for row in inData :\n",
    "        numItems += 1\n",
    "        if row[inIndex] in outDict :\n",
    "            outDict[row[inIndex]] += 1\n",
    "        else :\n",
    "            outDict[row[inIndex]] = 1\n",
    "    #convert the dict values to percentage\n",
    "    for item in outDict :\n",
    "        outDict[item] = round((outDict[item]/numItems) * 100,2)\n",
    "    return outDict\n",
    "\n",
    "#A function to display tables\n",
    "def display_table(dataset, index):\n",
    "    table = freq_table(dataset, index)\n",
    "    table_display = []\n",
    "    for key in table:\n",
    "        key_val_as_tuple = (table[key], key)\n",
    "        table_display.append(key_val_as_tuple)\n",
    "\n",
    "    table_sorted = sorted(table_display, reverse = True)\n",
    "    for entry in table_sorted:\n",
    "        print(entry[1], ':', entry[0])\n",
    "        \n",
    "#display frequency tables for prime_genre, genre, and category\n",
    "print(\"******Apple\")\n",
    "display_table(apple_clean_free, 11)\n",
    "print((\"******Android\"))\n",
    "display_table(android_clean_free, 1)\n",
    "print(\"******Android\")\n",
    "display_table(android_clean_free, 9)"
   ]
  },
  {
   "cell_type": "markdown",
   "metadata": {},
   "source": [
    "## At a glance analysis\n",
    "By checking the frequency tables above, we can observe some trends\n",
    "\n",
    "### Apple Store trends\n",
    " - The most common iOS app by far is games (58%), followed by entertainment (7%). \n",
    " - Games and entertainment combined make up nearly 2/3 of iOS apps\n",
    "We can surmise that iOS apps are geared towards entertainment and gaming rather than lifestyle. \n",
    "Therefore, I would recommend that any iOS app that our team develops fit into the game or entertainment profile.\n",
    "\n",
    "### Google Store trends\n",
    " - The most common google store trends are family-tool oriented, however the gap is not nearly as pronounced as in the iOS apps. \n",
    " - Categories for google apps are more evenly distributed, though this might be attributed to the Google data splitting entertainment/games into more specific categories (ie: strategy, role playing). \n",
    " \n",
    "##### Summary:\n",
    "The iOS store is loaded with apps designed for fun, while the Google Play Store is more evenly distributed with apps for fun and practical apps. \n",
    " \n",
    "Note that these tables reveal the most frequent APPS, not necessarily the apps with the most users. Therefore, we should find a way to estimate the number of USERS an app has. \n",
    "\n",
    "Google Play data includes an \"Installs\" field\n",
    "Apple Store data does not, but we will use \"Ratings Count\" as a proxy for installs. "
   ]
  },
  {
   "cell_type": "code",
   "execution_count": 14,
   "metadata": {
    "collapsed": false
   },
   "outputs": [
    {
     "name": "stdout",
     "output_type": "stream",
     "text": [
      "Health & Fitness : 23298.015384615384\n",
      "Lifestyle : 16485.764705882353\n",
      "Catalogs : 4004.0\n",
      "Finance : 31467.944444444445\n",
      "Travel : 28243.8\n",
      "Utilities : 18684.456790123455\n",
      "News : 21248.023255813954\n",
      "Medical : 612.0\n",
      "Photo & Video : 28441.54375\n",
      "Education : 7003.983050847458\n",
      "Book : 39758.5\n",
      "Entertainment : 14029.830708661417\n",
      "Business : 7491.117647058823\n",
      "Music : 57326.530303030304\n",
      "Social Networking : 71548.34905660378\n",
      "Navigation : 86090.33333333333\n",
      "Games : 22788.6696905016\n",
      "Shopping : 26919.690476190477\n",
      "Reference : 74942.11111111111\n",
      "Productivity : 21028.410714285714\n",
      "Weather : 52279.892857142855\n",
      "Sports : 23008.898550724636\n",
      "Food & Drink : 33333.92307692308\n"
     ]
    }
   ],
   "source": [
    "#Get a freq table of apple prime genres\n",
    "applePrimeGenres = freq_table(apple_clean_free, 11)\n",
    "\n",
    "#for each genre in the apple prime genres\n",
    "for item in applePrimeGenres :\n",
    "    total = 0\n",
    "    len_genre = 0\n",
    "    for app in apple_clean_free :\n",
    "        genre_app = app[11]\n",
    "        if genre_app == item :\n",
    "            numRatings = float(app[5])\n",
    "            total += numRatings\n",
    "            len_genre += 1\n",
    "    avgRatings = total/len_genre\n",
    "    print(item, ':', avgRatings)\n"
   ]
  },
  {
   "cell_type": "markdown",
   "metadata": {},
   "source": [
    "If we check the number of reviews for apple store apps, we can see that Navigation apps have a high number of reviews. Therefore assumed a high number of users (reviews as a proxy). The same is true for Social Networking. \n",
    "\n",
    "However, using our frequency table from previous steps, we can see that navigation and social networking apps make up <4% of all iOS apps. Therefore we can assume that a small number of apps here are holding a large number of reivews. \n",
    "\n",
    "For this reason, I might suggest that we go with photo video or entertainment apps, which hold 11% of apps in the store, and a combined 42000 reviews/users. "
   ]
  },
  {
   "cell_type": "code",
   "execution_count": 17,
   "metadata": {
    "collapsed": false
   },
   "outputs": [
    {
     "name": "stdout",
     "output_type": "stream",
     "text": [
      "EDUCATION : 1825480.7692307692\n",
      "MAPS_AND_NAVIGATION : 3993339.603174603\n",
      "COMICS : 803234.8214285715\n",
      "LIFESTYLE : 1436126.94\n",
      "GAME : 15551995.891203703\n",
      "HEALTH_AND_FITNESS : 4188821.9853479853\n",
      "SPORTS : 3638640.1428571427\n",
      "SOCIAL : 23253652.127118643\n",
      "AUTO_AND_VEHICLES : 647317.8170731707\n",
      "ENTERTAINMENT : 11640705.88235294\n",
      "HOUSE_AND_HOME : 1331540.5616438356\n",
      "PARENTING : 542603.6206896552\n",
      "BOOKS_AND_REFERENCE : 8587351.855670104\n",
      "NEWS_AND_MAGAZINES : 9401635.952380951\n",
      "MEDICAL : 120550.61980830671\n",
      "ART_AND_DESIGN : 1952105.1724137932\n",
      "FOOD_AND_DRINK : 1924897.7363636363\n",
      "PRODUCTIVITY : 16738957.554913295\n",
      "BEAUTY : 513151.88679245283\n",
      "LIBRARIES_AND_DEMO : 638503.734939759\n",
      "PHOTOGRAPHY : 17772018.759541985\n",
      "EVENTS : 253542.22222222222\n",
      "FAMILY : 3668870.823076923\n",
      "WEATHER : 5074486.197183099\n",
      "DATING : 854028.8303030303\n",
      "BUSINESS : 1708215.906862745\n",
      "FINANCE : 1387692.475609756\n",
      "COMMUNICATION : 38322625.697916664\n",
      "TOOLS : 10787009.952063914\n",
      "SHOPPING : 7001693.425\n",
      "TRAVEL_AND_LOCAL : 13984077.710144928\n",
      "VIDEO_PLAYERS : 24573948.25\n",
      "PERSONALIZATION : 5183850.806779661\n"
     ]
    }
   ],
   "source": [
    "#Create a frequency table for Android Category column\n",
    "android_category = freq_table(android_clean_free, 1)\n",
    "\n",
    "#Find the number of installs for each category\n",
    "for category in android_category :\n",
    "    total = 0\n",
    "    len_category = 0\n",
    "    for app in android_clean_free :\n",
    "        app_category = app[1]\n",
    "        if app_category == category :\n",
    "            numInstalls = app[5]\n",
    "            numInstalls = numInstalls.replace('+', '')\n",
    "            numInstalls = numInstalls.replace(',', '')\n",
    "            numInstalls = float(numInstalls)\n",
    "            total += numInstalls\n",
    "            len_category += 1\n",
    "    avgInstalls = total/len_category\n",
    "    print(category, ':', avgInstalls)"
   ]
  },
  {
   "cell_type": "markdown",
   "metadata": {},
   "source": [
    "From this list we can see that communication apps have a very high number of installs, but we can also assume that there are not very many of these apps in the Google Play Store (only 3% of all Play store apps). Therefore the results here are skewed by a few apps with very high numbers of users. \n",
    "\n",
    "I would suggest that we investigate reading/reference apps, since they have 8million + installs."
   ]
  }
 ],
 "metadata": {
  "kernelspec": {
   "display_name": "Python 3",
   "language": "python",
   "name": "python3"
  },
  "language_info": {
   "codemirror_mode": {
    "name": "ipython",
    "version": 3
   },
   "file_extension": ".py",
   "mimetype": "text/x-python",
   "name": "python",
   "nbconvert_exporter": "python",
   "pygments_lexer": "ipython3",
   "version": "3.4.3"
  }
 },
 "nbformat": 4,
 "nbformat_minor": 2
}
